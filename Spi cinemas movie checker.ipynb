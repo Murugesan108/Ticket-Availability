{
 "cells": [
  {
   "cell_type": "code",
   "execution_count": 228,
   "metadata": {},
   "outputs": [],
   "source": [
    "import xml.etree.ElementTree as ET\n",
    "import requests\n",
    "import string\n",
    "import pandas as pd\n",
    "from lxml import html"
   ]
  },
  {
   "cell_type": "code",
   "execution_count": 229,
   "metadata": {},
   "outputs": [],
   "source": [
    "cuss_words_df = pd.DataFrame()\n",
    "\n",
    "url = \"https://www.spicinemas.in/coimbatore/now-showing\"\n",
    "XML = requests.get(url)\n",
    "\n",
    "tree = html.fromstring(XML.content)"
   ]
  },
  {
   "cell_type": "code",
   "execution_count": 230,
   "metadata": {},
   "outputs": [],
   "source": [
    "movies = tree.xpath('//body//div[1]//article//div[1]//div[2]//section//section//section[1]')[1].getchildren()[0].getchildren()"
   ]
  },
  {
   "cell_type": "code",
   "execution_count": 231,
   "metadata": {},
   "outputs": [
    {
     "data": {
      "text/plain": [
       "['2.0 TAMIL',\n",
       " 'ADANGA MARU',\n",
       " 'AQUAMAN',\n",
       " 'BUMBLEBEE',\n",
       " 'KANAA',\n",
       " 'K.G.F.',\n",
       " 'MAARI 2',\n",
       " 'MARY POPPINS RETURNS',\n",
       " 'NJAN PRAKASHAN',\n",
       " 'NTR KATHANAYAKUDU',\n",
       " 'PETTA',\n",
       " 'PRETHAM 2',\n",
       " 'SILUKKUVARPATTI SINGAM',\n",
       " 'SIMMBA']"
      ]
     },
     "execution_count": 231,
     "metadata": {},
     "output_type": "execute_result"
    }
   ],
   "source": [
    "movie_list_html = movies[0].xpath(\"//li//div//dl//dt\")\n",
    "current_movie_list = [each.text_content().strip() for each in movie_list_html]\n",
    "current_movie_list"
   ]
  },
  {
   "cell_type": "code",
   "execution_count": 232,
   "metadata": {},
   "outputs": [],
   "source": [
    "old_movie_list = ['2.0 TAMIL',\n",
    " 'ADANGA MARU',\n",
    " 'AQUAMAN',\n",
    " 'BUMBLEBEE',\n",
    " 'KANAA',\n",
    " 'K.G.F.',\n",
    " 'MAARI 2',\n",
    " 'MARY POPPINS RETURNS',\n",
    " 'NJAN PRAKASHAN',\n",
    " 'NTR KATHANAYAKUDU',\n",
    " 'PRETHAM 2',\n",
    " 'SILUKKUVARPATTI SINGAM',\n",
    " 'SIMMBA',\n",
    " 'THATTUMPURATHU ACHUTHAN']"
   ]
  },
  {
   "cell_type": "code",
   "execution_count": 233,
   "metadata": {},
   "outputs": [
    {
     "data": {
      "text/plain": [
       "['PETTA']"
      ]
     },
     "execution_count": 233,
     "metadata": {},
     "output_type": "execute_result"
    }
   ],
   "source": [
    "new_movies = [each for each in current_movie_list if each not in old_movie_list]\n",
    "new_movies"
   ]
  },
  {
   "cell_type": "code",
   "execution_count": 209,
   "metadata": {},
   "outputs": [],
   "source": [
    "import notify\n",
    "if len(new_movies) > 0:\n",
    "    notify.send('SATHYAM BOOKINGS OPEN')"
   ]
  },
  {
   "cell_type": "code",
   "execution_count": null,
   "metadata": {},
   "outputs": [],
   "source": []
  }
 ],
 "metadata": {
  "kernelspec": {
   "display_name": "Python 3",
   "language": "python",
   "name": "python3"
  },
  "language_info": {
   "codemirror_mode": {
    "name": "ipython",
    "version": 3
   },
   "file_extension": ".py",
   "mimetype": "text/x-python",
   "name": "python",
   "nbconvert_exporter": "python",
   "pygments_lexer": "ipython3",
   "version": "3.6.4"
  }
 },
 "nbformat": 4,
 "nbformat_minor": 2
}
